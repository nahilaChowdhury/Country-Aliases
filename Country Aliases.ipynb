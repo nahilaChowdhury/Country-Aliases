{
 "cells": [
  {
   "cell_type": "code",
   "execution_count": 2,
   "metadata": {},
   "outputs": [],
   "source": [
    "import requests\n",
    "\n",
    "def country_alias():\n",
    "    url = \"https://restcountries.com/v3.1/all\"\n",
    "\n",
    "    try:\n",
    "        response = requests.get(url)\n",
    "        response.raise_for_status()\n",
    "        countries = response.json()\n",
    "        #print(countries)\n",
    "\n",
    "        country_aliases = {}\n",
    "        alias_to_country = {}\n",
    "\n",
    "        for country in countries:\n",
    "            common_name = country.get(\"name\",{}).get(\"common\",\"Unkown\")\n",
    "            official_name = country.get(\"name\",{}).get(\"official\", \"Unkown\")\n",
    "            native_name = country.get(\"name\",{}).get(\"nativeName\",{})\n",
    "            alt_spellings = country.get(\"altSpellings\",[])\n",
    "\n",
    "            aliases = set()\n",
    "            aliases.add(common_name)\n",
    "            aliases.add(official_name)\n",
    "            aliases.update(alt_spellings)\n",
    "            aliases.update(name_info[\"common\"] for name_info in native_name.values())\n",
    "            \n",
    "\n",
    "            country_aliases[common_name] = list(aliases)\n",
    "\n",
    "\n",
    "            for alias in aliases:\n",
    "                alias_to_country[alias.lower()] = common_name\n",
    "\n",
    "\n",
    "\n",
    "        return alias, alias_to_country\n",
    "\n",
    "    except requests.exceptions.RequestException as e:\n",
    "        print(f\"Error with {e}\")\n",
    "        return {}"
   ]
  },
  {
   "cell_type": "code",
   "execution_count": 3,
   "metadata": {},
   "outputs": [],
   "source": [
    "country_aliases, alias_to_country = country_alias()\n",
    "\n",
    "# Function to find country by alias\n",
    "def find_country(user_input):\n",
    "    user_input = user_input.lower()  \n",
    "    return alias_to_country.get(user_input, \"Country not found\")"
   ]
  },
  {
   "cell_type": "code",
   "execution_count": 5,
   "metadata": {},
   "outputs": [
    {
     "data": {
      "text/plain": [
       "'Turkmenistan'"
      ]
     },
     "execution_count": 5,
     "metadata": {},
     "output_type": "execute_result"
    }
   ],
   "source": [
    "find_country(\"Turkmenistan\")"
   ]
  },
  {
   "cell_type": "code",
   "execution_count": null,
   "metadata": {},
   "outputs": [],
   "source": []
  }
 ],
 "metadata": {
  "kernelspec": {
   "display_name": "Python 3",
   "language": "python",
   "name": "python3"
  },
  "language_info": {
   "codemirror_mode": {
    "name": "ipython",
    "version": 3
   },
   "file_extension": ".py",
   "mimetype": "text/x-python",
   "name": "python",
   "nbconvert_exporter": "python",
   "pygments_lexer": "ipython3",
   "version": "3.10.2"
  }
 },
 "nbformat": 4,
 "nbformat_minor": 2
}
